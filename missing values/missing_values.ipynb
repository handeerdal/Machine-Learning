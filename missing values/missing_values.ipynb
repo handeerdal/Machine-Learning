{
 "cells": [
  {
   "cell_type": "code",
   "execution_count": 1,
   "id": "360145b8-ca23-4b8e-b9b2-4e1c1145da3a",
   "metadata": {},
   "outputs": [],
   "source": [
    "import numpy as np\n",
    "import pandas as pd\n",
    "from sklearn.impute import SimpleImputer"
   ]
  },
  {
   "cell_type": "code",
   "execution_count": 2,
   "id": "3c3c1334-ff85-43a2-85aa-0f8132421d8c",
   "metadata": {},
   "outputs": [],
   "source": [
    "data = pd.read_csv(\"eksikveriler.csv\")"
   ]
  },
  {
   "cell_type": "markdown",
   "id": "339697bb-0823-458e-bdc3-5a8677e11060",
   "metadata": {},
   "source": [
    "fillna method"
   ]
  },
  {
   "cell_type": "code",
   "execution_count": 3,
   "id": "e5af0406-ec24-450c-a185-edd836c428f5",
   "metadata": {},
   "outputs": [
    {
     "data": {
      "text/html": [
       "<div>\n",
       "<style scoped>\n",
       "    .dataframe tbody tr th:only-of-type {\n",
       "        vertical-align: middle;\n",
       "    }\n",
       "\n",
       "    .dataframe tbody tr th {\n",
       "        vertical-align: top;\n",
       "    }\n",
       "\n",
       "    .dataframe thead th {\n",
       "        text-align: right;\n",
       "    }\n",
       "</style>\n",
       "<table border=\"1\" class=\"dataframe\">\n",
       "  <thead>\n",
       "    <tr style=\"text-align: right;\">\n",
       "      <th></th>\n",
       "      <th>ulke</th>\n",
       "      <th>boy</th>\n",
       "      <th>kilo</th>\n",
       "      <th>yas</th>\n",
       "      <th>cinsiyet</th>\n",
       "    </tr>\n",
       "  </thead>\n",
       "  <tbody>\n",
       "    <tr>\n",
       "      <th>0</th>\n",
       "      <td>tr</td>\n",
       "      <td>130</td>\n",
       "      <td>30</td>\n",
       "      <td>10.0</td>\n",
       "      <td>e</td>\n",
       "    </tr>\n",
       "    <tr>\n",
       "      <th>1</th>\n",
       "      <td>tr</td>\n",
       "      <td>125</td>\n",
       "      <td>36</td>\n",
       "      <td>11.0</td>\n",
       "      <td>e</td>\n",
       "    </tr>\n",
       "    <tr>\n",
       "      <th>2</th>\n",
       "      <td>tr</td>\n",
       "      <td>135</td>\n",
       "      <td>34</td>\n",
       "      <td>10.0</td>\n",
       "      <td>k</td>\n",
       "    </tr>\n",
       "    <tr>\n",
       "      <th>3</th>\n",
       "      <td>tr</td>\n",
       "      <td>133</td>\n",
       "      <td>30</td>\n",
       "      <td>9.0</td>\n",
       "      <td>k</td>\n",
       "    </tr>\n",
       "    <tr>\n",
       "      <th>4</th>\n",
       "      <td>tr</td>\n",
       "      <td>129</td>\n",
       "      <td>38</td>\n",
       "      <td>12.0</td>\n",
       "      <td>e</td>\n",
       "    </tr>\n",
       "  </tbody>\n",
       "</table>\n",
       "</div>"
      ],
      "text/plain": [
       "  ulke  boy  kilo   yas cinsiyet\n",
       "0   tr  130    30  10.0        e\n",
       "1   tr  125    36  11.0        e\n",
       "2   tr  135    34  10.0        k\n",
       "3   tr  133    30   9.0        k\n",
       "4   tr  129    38  12.0        e"
      ]
     },
     "execution_count": 3,
     "metadata": {},
     "output_type": "execute_result"
    }
   ],
   "source": [
    "data.head()"
   ]
  },
  {
   "cell_type": "code",
   "execution_count": 5,
   "id": "29ed7c01-1a3a-4041-9489-0d5014ac7154",
   "metadata": {},
   "outputs": [
    {
     "data": {
      "text/plain": [
       "ulke        0\n",
       "boy         0\n",
       "kilo        0\n",
       "yas         2\n",
       "cinsiyet    0\n",
       "dtype: int64"
      ]
     },
     "execution_count": 5,
     "metadata": {},
     "output_type": "execute_result"
    }
   ],
   "source": [
    "data.isnull().sum()"
   ]
  },
  {
   "cell_type": "code",
   "execution_count": 8,
   "id": "92421814-1b34-4721-81f6-53edcf88080b",
   "metadata": {},
   "outputs": [],
   "source": [
    "mean = data[\"yas\"].mean()"
   ]
  },
  {
   "cell_type": "code",
   "execution_count": 13,
   "id": "e150174b-1d9f-4c65-9d0f-350431e27b36",
   "metadata": {},
   "outputs": [
    {
     "data": {
      "text/plain": [
       "28.45"
      ]
     },
     "execution_count": 13,
     "metadata": {},
     "output_type": "execute_result"
    }
   ],
   "source": [
    "mean"
   ]
  },
  {
   "cell_type": "code",
   "execution_count": 10,
   "id": "b981c23a-0484-4b7b-9844-ff161fe4f833",
   "metadata": {},
   "outputs": [],
   "source": [
    "data['yas'].fillna(mean, inplace=True)"
   ]
  },
  {
   "cell_type": "code",
   "execution_count": 12,
   "id": "da65d756-cad1-4c11-b392-14880bce2ad9",
   "metadata": {},
   "outputs": [
    {
     "data": {
      "text/plain": [
       "ulke        0\n",
       "boy         0\n",
       "kilo        0\n",
       "yas         0\n",
       "cinsiyet    0\n",
       "dtype: int64"
      ]
     },
     "execution_count": 12,
     "metadata": {},
     "output_type": "execute_result"
    }
   ],
   "source": [
    "data.isnull().sum()"
   ]
  },
  {
   "cell_type": "code",
   "execution_count": 14,
   "id": "35c6250a-4e6c-4513-92ea-c60361265736",
   "metadata": {},
   "outputs": [
    {
     "data": {
      "text/plain": [
       "28.45"
      ]
     },
     "execution_count": 14,
     "metadata": {},
     "output_type": "execute_result"
    }
   ],
   "source": [
    "data[\"yas\"].mean()"
   ]
  },
  {
   "cell_type": "code",
   "execution_count": 16,
   "id": "d943b7cc-295d-47cc-959c-25fbeec09c09",
   "metadata": {},
   "outputs": [],
   "source": [
    "data2 = pd.read_csv(\"eksikveriler.csv\")"
   ]
  },
  {
   "cell_type": "markdown",
   "id": "1593ec9e-7332-4542-863b-00065607ceea",
   "metadata": {},
   "source": [
    "sklearn imputer method"
   ]
  },
  {
   "cell_type": "code",
   "execution_count": 17,
   "id": "76d26782-72a8-45a6-a487-2378644faab0",
   "metadata": {},
   "outputs": [],
   "source": [
    "imputer = SimpleImputer(missing_values=np.nan, strategy=\"mean\")"
   ]
  },
  {
   "cell_type": "code",
   "execution_count": 19,
   "id": "ac35f8f1-fcc9-4e40-8aaa-bdbdfc2bd3d4",
   "metadata": {},
   "outputs": [
    {
     "data": {
      "text/plain": [
       "ulke        0\n",
       "boy         0\n",
       "kilo        0\n",
       "yas         2\n",
       "cinsiyet    0\n",
       "dtype: int64"
      ]
     },
     "execution_count": 19,
     "metadata": {},
     "output_type": "execute_result"
    }
   ],
   "source": [
    "data2.isnull().sum()"
   ]
  },
  {
   "cell_type": "code",
   "execution_count": 26,
   "id": "f6144001-0300-4846-a4b3-cb31db60d9b4",
   "metadata": {},
   "outputs": [
    {
     "data": {
      "text/plain": [
       "(22, 5)"
      ]
     },
     "execution_count": 26,
     "metadata": {},
     "output_type": "execute_result"
    }
   ],
   "source": [
    "data2.shape"
   ]
  },
  {
   "cell_type": "code",
   "execution_count": 27,
   "id": "66fd0b7c-998c-4eda-9e1c-afc3e62acbee",
   "metadata": {},
   "outputs": [
    {
     "data": {
      "text/html": [
       "<div>\n",
       "<style scoped>\n",
       "    .dataframe tbody tr th:only-of-type {\n",
       "        vertical-align: middle;\n",
       "    }\n",
       "\n",
       "    .dataframe tbody tr th {\n",
       "        vertical-align: top;\n",
       "    }\n",
       "\n",
       "    .dataframe thead th {\n",
       "        text-align: right;\n",
       "    }\n",
       "</style>\n",
       "<table border=\"1\" class=\"dataframe\">\n",
       "  <thead>\n",
       "    <tr style=\"text-align: right;\">\n",
       "      <th></th>\n",
       "      <th>ulke</th>\n",
       "      <th>boy</th>\n",
       "      <th>kilo</th>\n",
       "      <th>yas</th>\n",
       "      <th>cinsiyet</th>\n",
       "    </tr>\n",
       "  </thead>\n",
       "  <tbody>\n",
       "    <tr>\n",
       "      <th>0</th>\n",
       "      <td>tr</td>\n",
       "      <td>130</td>\n",
       "      <td>30</td>\n",
       "      <td>10.0</td>\n",
       "      <td>e</td>\n",
       "    </tr>\n",
       "    <tr>\n",
       "      <th>1</th>\n",
       "      <td>tr</td>\n",
       "      <td>125</td>\n",
       "      <td>36</td>\n",
       "      <td>11.0</td>\n",
       "      <td>e</td>\n",
       "    </tr>\n",
       "    <tr>\n",
       "      <th>2</th>\n",
       "      <td>tr</td>\n",
       "      <td>135</td>\n",
       "      <td>34</td>\n",
       "      <td>10.0</td>\n",
       "      <td>k</td>\n",
       "    </tr>\n",
       "    <tr>\n",
       "      <th>3</th>\n",
       "      <td>tr</td>\n",
       "      <td>133</td>\n",
       "      <td>30</td>\n",
       "      <td>9.0</td>\n",
       "      <td>k</td>\n",
       "    </tr>\n",
       "    <tr>\n",
       "      <th>4</th>\n",
       "      <td>tr</td>\n",
       "      <td>129</td>\n",
       "      <td>38</td>\n",
       "      <td>12.0</td>\n",
       "      <td>e</td>\n",
       "    </tr>\n",
       "  </tbody>\n",
       "</table>\n",
       "</div>"
      ],
      "text/plain": [
       "  ulke  boy  kilo   yas cinsiyet\n",
       "0   tr  130    30  10.0        e\n",
       "1   tr  125    36  11.0        e\n",
       "2   tr  135    34  10.0        k\n",
       "3   tr  133    30   9.0        k\n",
       "4   tr  129    38  12.0        e"
      ]
     },
     "execution_count": 27,
     "metadata": {},
     "output_type": "execute_result"
    }
   ],
   "source": [
    "data2.head()"
   ]
  },
  {
   "cell_type": "code",
   "execution_count": 28,
   "id": "9c42b820-0a5c-4745-982f-0490853bf3c2",
   "metadata": {},
   "outputs": [],
   "source": [
    "yas = data2.iloc[:,1:4].values #\"1den ve 4.sutuna kadar 4 dahil degil\" dizi olusturduk"
   ]
  },
  {
   "cell_type": "code",
   "execution_count": 29,
   "id": "d7a532f1-ca08-4ca8-b56c-e2d7d908314b",
   "metadata": {},
   "outputs": [
    {
     "data": {
      "text/plain": [
       "array([[130.,  30.,  10.],\n",
       "       [125.,  36.,  11.],\n",
       "       [135.,  34.,  10.],\n",
       "       [133.,  30.,   9.],\n",
       "       [129.,  38.,  12.],\n",
       "       [180.,  90.,  30.],\n",
       "       [190.,  80.,  25.],\n",
       "       [175.,  90.,  35.],\n",
       "       [177.,  60.,  22.],\n",
       "       [185., 105.,  33.],\n",
       "       [165.,  55.,  27.],\n",
       "       [155.,  50.,  44.],\n",
       "       [160.,  58.,  nan],\n",
       "       [162.,  59.,  41.],\n",
       "       [167.,  62.,  55.],\n",
       "       [174.,  70.,  47.],\n",
       "       [193.,  90.,  nan],\n",
       "       [187.,  80.,  27.],\n",
       "       [183.,  88.,  28.],\n",
       "       [159.,  40.,  29.],\n",
       "       [164.,  66.,  32.],\n",
       "       [166.,  56.,  42.]])"
      ]
     },
     "execution_count": 29,
     "metadata": {},
     "output_type": "execute_result"
    }
   ],
   "source": [
    "yas"
   ]
  },
  {
   "cell_type": "code",
   "execution_count": 31,
   "id": "1ca982d9-21d3-4326-b110-9baced7c090d",
   "metadata": {},
   "outputs": [],
   "source": [
    "imputer= imputer.fit(yas[:,1:4]) #fit egitmek demek\n",
    "yas[:,1:4]= imputer.transform(yas[:,1:4]) #öğrendigin şeyi uygula nan değerleri imputer.fit de öğrendigin şeyle değiştir"
   ]
  },
  {
   "cell_type": "code",
   "execution_count": 32,
   "id": "1ce7421a-aefc-444f-ba20-5ec6f2adadf8",
   "metadata": {},
   "outputs": [
    {
     "data": {
      "text/plain": [
       "array([[130.  ,  30.  ,  10.  ],\n",
       "       [125.  ,  36.  ,  11.  ],\n",
       "       [135.  ,  34.  ,  10.  ],\n",
       "       [133.  ,  30.  ,   9.  ],\n",
       "       [129.  ,  38.  ,  12.  ],\n",
       "       [180.  ,  90.  ,  30.  ],\n",
       "       [190.  ,  80.  ,  25.  ],\n",
       "       [175.  ,  90.  ,  35.  ],\n",
       "       [177.  ,  60.  ,  22.  ],\n",
       "       [185.  , 105.  ,  33.  ],\n",
       "       [165.  ,  55.  ,  27.  ],\n",
       "       [155.  ,  50.  ,  44.  ],\n",
       "       [160.  ,  58.  ,  28.45],\n",
       "       [162.  ,  59.  ,  41.  ],\n",
       "       [167.  ,  62.  ,  55.  ],\n",
       "       [174.  ,  70.  ,  47.  ],\n",
       "       [193.  ,  90.  ,  28.45],\n",
       "       [187.  ,  80.  ,  27.  ],\n",
       "       [183.  ,  88.  ,  28.  ],\n",
       "       [159.  ,  40.  ,  29.  ],\n",
       "       [164.  ,  66.  ,  32.  ],\n",
       "       [166.  ,  56.  ,  42.  ]])"
      ]
     },
     "execution_count": 32,
     "metadata": {},
     "output_type": "execute_result"
    }
   ],
   "source": [
    "yas"
   ]
  },
  {
   "cell_type": "code",
   "execution_count": null,
   "id": "65bda0d2-8278-45ef-a417-aa707d531881",
   "metadata": {},
   "outputs": [],
   "source": []
  }
 ],
 "metadata": {
  "kernelspec": {
   "display_name": "Python 3 (ipykernel)",
   "language": "python",
   "name": "python3"
  },
  "language_info": {
   "codemirror_mode": {
    "name": "ipython",
    "version": 3
   },
   "file_extension": ".py",
   "mimetype": "text/x-python",
   "name": "python",
   "nbconvert_exporter": "python",
   "pygments_lexer": "ipython3",
   "version": "3.11.5"
  }
 },
 "nbformat": 4,
 "nbformat_minor": 5
}
